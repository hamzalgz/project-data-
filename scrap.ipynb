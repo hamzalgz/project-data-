{
 "cells": [
  {
   "cell_type": "code",
   "execution_count": 1,
   "id": "herbal-module",
   "metadata": {},
   "outputs": [],
   "source": [
    "import csv\n",
    "from getpass import getpass\n",
    "from selenium.webdriver.common.keys import Keys\n",
    "from selenium.common.exceptions import NoSuchElementException\n",
    "from selenium.webdriver import Chrome"
   ]
  },
  {
   "cell_type": "code",
   "execution_count": 4,
   "id": "bizarre-convert",
   "metadata": {},
   "outputs": [],
   "source": [
    "driver=Chrome(r'C:\\Users\\hamza lagramez\\Desktop\\chromedriver_win32\\chromedriver.exe')"
   ]
  },
  {
   "cell_type": "code",
   "execution_count": 5,
   "id": "expanded-registrar",
   "metadata": {},
   "outputs": [],
   "source": [
    "driver.get('https://www.twitter.com/login')"
   ]
  },
  {
   "cell_type": "code",
   "execution_count": 9,
   "id": "bacterial-vermont",
   "metadata": {},
   "outputs": [],
   "source": [
    "username=driver.find_element_by_xpath('//*[@id=\"react-root\"]/div/div/div[2]/main/div/div/div[2]/form/div/div[1]/label/div/div[2]/div/input')\n",
    "username.send_keys('hna da5al email dylk dyal twitter')"
   ]
  },
  {
   "cell_type": "code",
   "execution_count": 11,
   "id": "wired-exemption",
   "metadata": {},
   "outputs": [],
   "source": [
    "psswrd=driver.find_element_by_xpath('//*[@id=\"react-root\"]/div/div/div[2]/main/div/div/div[2]/form/div/div[2]/label/div/div[2]/div/input')\n",
    "psswrd.send_keys('hna da5al password dylk dyal twitter')"
   ]
  },
  {
   "cell_type": "code",
   "execution_count": 12,
   "id": "unique-birth",
   "metadata": {},
   "outputs": [],
   "source": [
    "psswrd.send_keys(Keys.RETURN)"
   ]
  },
  {
   "cell_type": "code",
   "execution_count": 157,
   "id": "helpful-governor",
   "metadata": {},
   "outputs": [],
   "source": [
    "#dir post li 3ajbakk\n",
    "driver.get('https://twitter.com/MailOnline/status/1392351368040615940')"
   ]
  },
  {
   "cell_type": "code",
   "execution_count": 407,
   "id": "sunrise-thumb",
   "metadata": {},
   "outputs": [],
   "source": [
    "cards=driver.find_elements_by_xpath('//div[@data-testid=\"tweet\"]')"
   ]
  },
  {
   "cell_type": "code",
   "execution_count": 436,
   "id": "excessive-connecticut",
   "metadata": {},
   "outputs": [
    {
     "name": "stdout",
     "output_type": "stream",
     "text": [
      "[{'usernam': 'karenjcarroll', 'date': '2021-05-12T06:29:26.000Z', 'reply_cnt': '', 'retweet_cnt': '', 'like_cnt': '7', 'tet': 'Western aid cancelled to Africa and Middle East countries  immediately! This aid is Labour Party agreement !\\nnot the public agreement. At last my government are speaking for the people ! Long may the conservative government reign ! Let’s get this great country back on its feet'}, {'usernam': 'የታንዛኒያ ኬንያዊ', 'date': '2021-05-12T09:54:38.000Z', 'reply_cnt': '1', 'retweet_cnt': '', 'like_cnt': '2', 'tet': 'African Families Matter.\\n\\nStrong cocks we have here and we proud!'}, {'usernam': 'Tom', 'date': '2021-05-12T06:21:12.000Z', 'reply_cnt': '', 'retweet_cnt': '', 'like_cnt': '13', 'tet': 'The Wests neo-marxists loves this, its their future voters.'}, {'usernam': 'Jon Wort', 'date': '2021-05-12T06:01:37.000Z', 'reply_cnt': '2', 'retweet_cnt': '', 'like_cnt': '14', 'tet': 'How does he cope with 16 Mother-in-Laws?'}, {'usernam': 'pierredelecto', 'date': '2021-05-12T07:55:55.000Z', 'reply_cnt': '', 'retweet_cnt': '', 'like_cnt': '2'}, {'usernam': 'g', 'date': '2021-05-12T05:35:15.000Z', 'reply_cnt': '1', 'retweet_cnt': '1', 'like_cnt': '25', 'tet': 'I heard the 109th kid is his favorite'}, {'usernam': 'Brenly Faratheon (re-fallow pls)', 'date': '2021-05-12T05:41:12.000Z', 'reply_cnt': '', 'retweet_cnt': '', 'like_cnt': '4'}, {'usernam': 'theoutsider', 'date': '2021-05-12T05:32:50.000Z', 'reply_cnt': '', 'retweet_cnt': '', 'like_cnt': '1', 'tet': \"Cant the Social Services get involved ? Second thoughts forget that ! They'd have him on Benefits for that shower !\"}, {'usernam': 'Vusie Ndlovu', 'date': '2021-05-12T07:31:00.000Z', 'reply_cnt': '1', 'retweet_cnt': '', 'like_cnt': '', 'tet': 'Some don’t belong to him he quickly accepts anything'}, {'usernam': 'Brighton Mrehwa', 'date': '2021-05-12T07:42:05.000Z', 'reply_cnt': '1', 'retweet_cnt': '', 'like_cnt': '1'}, {'usernam': 'Pearl', 'date': '2021-05-12T06:28:30.000Z', 'reply_cnt': '', 'retweet_cnt': '', 'like_cnt': '7', 'tet': \"I doubt he's having 4 showers a night, what a stink.\"}, {'usernam': 'Splinter', 'date': '2021-05-12T06:48:35.000Z', 'reply_cnt': '', 'retweet_cnt': '', 'like_cnt': '5', 'tet': 'Not all cultures are equal'}, {'usernam': 'Wilhemina Bothwell', 'date': '2021-05-12T06:49:14.000Z', 'reply_cnt': '', 'retweet_cnt': '', 'like_cnt': '5', 'tet': 'I hope a couple of them have a high IQ than he does.'}, {'usernam': 'Invictus@', 'date': '2021-05-12T09:08:35.000Z', 'reply_cnt': '1', 'retweet_cnt': '', 'like_cnt': '1', 'tet': 'probably gets child benefit sent from the U.K.'}, {'usernam': 'Sophie', 'date': '2021-05-12T14:33:15.000Z', 'reply_cnt': '', 'retweet_cnt': '', 'like_cnt': ''}, {'usernam': 'Bernie', 'date': '2021-05-12T09:14:16.000Z', 'reply_cnt': '', 'retweet_cnt': '', 'like_cnt': '', 'tet': 'Needs to get a telly!'}, {'usernam': 'KUDAKWASHE', 'date': '2021-05-12T05:56:41.000Z', 'reply_cnt': '', 'retweet_cnt': '', 'like_cnt': '1', 'tet': '@slymore1'}, {'usernam': 'The 13th Warrior', 'date': '2021-05-12T05:46:47.000Z', 'reply_cnt': '', 'retweet_cnt': '', 'like_cnt': '', 'tet': 'How Spend on Those\\n- '}, {'usernam': 'Andrew Zeig', 'date': '2021-05-12T05:51:12.000Z', 'reply_cnt': '', 'retweet_cnt': '', 'like_cnt': '', 'tet': 'The what?????'}, {'usernam': 'eileen', 'date': '2021-05-12T13:39:38.000Z', 'reply_cnt': '', 'retweet_cnt': '', 'like_cnt': '1', 'tet': 'Discusting'}, {'usernam': 'sarah janice wood', 'date': '2021-05-12T06:00:59.000Z', 'reply_cnt': '1', 'retweet_cnt': '', 'like_cnt': '18', 'tet': 'How long before most of them will be crossing the Med on boats'}, {'usernam': 'Leo Chabert', 'date': '2021-05-12T05:35:21.000Z', 'reply_cnt': '', 'retweet_cnt': '', 'like_cnt': '1', 'tet': 'Pathetically sad'}, {'usernam': 'Silverlily', 'date': '2021-05-12T10:49:54.000Z', 'reply_cnt': '', 'retweet_cnt': '', 'like_cnt': '', 'tet': ''}]\n"
     ]
    }
   ],
   "source": [
    "card=0\n",
    "cards=driver.find_elements_by_xpath('//div[@data-testid=\"tweet\"]')\n",
    "titres=[] \n",
    "for i in range(1,len(cards)):\n",
    "    data={}\n",
    "    card=cards[i]\n",
    "    data['usernam']=card.find_element_by_xpath('.//span').text\n",
    "    try:\n",
    "        data['date']=card.find_element_by_xpath('.//time').get_attribute('datetime')\n",
    "        data['reply_cnt'] = card.find_element_by_xpath('.//div[@data-testid=\"reply\"]').text\n",
    "        data['retweet_cnt'] = card.find_element_by_xpath('.//div[@data-testid=\"retweet\"]').text\n",
    "        data['like_cnt'] = card.find_element_by_xpath('.//div[@data-testid=\"like\"]').text\n",
    "        data['tet']=card.find_element_by_xpath('.//div[2]/div[2]/div[2]/div[1]').text\n",
    "    except: NoSuchElementException\n",
    "    titres.append(data)\n",
    "    \n",
    "print(titres)"
   ]
  },
  {
   "cell_type": "code",
   "execution_count": 437,
   "id": "integral-highlight",
   "metadata": {},
   "outputs": [],
   "source": [
    "import pandas as pd\n",
    "df=pd.DataFrame(titres)"
   ]
  },
  {
   "cell_type": "code",
   "execution_count": 439,
   "id": "designed-review",
   "metadata": {},
   "outputs": [
    {
     "data": {
      "text/html": [
       "<div>\n",
       "<style scoped>\n",
       "    .dataframe tbody tr th:only-of-type {\n",
       "        vertical-align: middle;\n",
       "    }\n",
       "\n",
       "    .dataframe tbody tr th {\n",
       "        vertical-align: top;\n",
       "    }\n",
       "\n",
       "    .dataframe thead th {\n",
       "        text-align: right;\n",
       "    }\n",
       "</style>\n",
       "<table border=\"1\" class=\"dataframe\">\n",
       "  <thead>\n",
       "    <tr style=\"text-align: right;\">\n",
       "      <th></th>\n",
       "      <th>usernam</th>\n",
       "      <th>date</th>\n",
       "      <th>reply_cnt</th>\n",
       "      <th>retweet_cnt</th>\n",
       "      <th>like_cnt</th>\n",
       "      <th>tet</th>\n",
       "    </tr>\n",
       "  </thead>\n",
       "  <tbody>\n",
       "    <tr>\n",
       "      <th>0</th>\n",
       "      <td>karenjcarroll</td>\n",
       "      <td>2021-05-12T06:29:26.000Z</td>\n",
       "      <td></td>\n",
       "      <td></td>\n",
       "      <td>7</td>\n",
       "      <td>Western aid cancelled to Africa and Middle Eas...</td>\n",
       "    </tr>\n",
       "    <tr>\n",
       "      <th>1</th>\n",
       "      <td>የታንዛኒያ ኬንያዊ</td>\n",
       "      <td>2021-05-12T09:54:38.000Z</td>\n",
       "      <td>1</td>\n",
       "      <td></td>\n",
       "      <td>2</td>\n",
       "      <td>African Families Matter.\\n\\nStrong cocks we ha...</td>\n",
       "    </tr>\n",
       "    <tr>\n",
       "      <th>2</th>\n",
       "      <td>Tom</td>\n",
       "      <td>2021-05-12T06:21:12.000Z</td>\n",
       "      <td></td>\n",
       "      <td></td>\n",
       "      <td>13</td>\n",
       "      <td>The Wests neo-marxists loves this, its their f...</td>\n",
       "    </tr>\n",
       "    <tr>\n",
       "      <th>3</th>\n",
       "      <td>Jon Wort</td>\n",
       "      <td>2021-05-12T06:01:37.000Z</td>\n",
       "      <td>2</td>\n",
       "      <td></td>\n",
       "      <td>14</td>\n",
       "      <td>How does he cope with 16 Mother-in-Laws?</td>\n",
       "    </tr>\n",
       "    <tr>\n",
       "      <th>4</th>\n",
       "      <td>pierredelecto</td>\n",
       "      <td>2021-05-12T07:55:55.000Z</td>\n",
       "      <td></td>\n",
       "      <td></td>\n",
       "      <td>2</td>\n",
       "      <td>NaN</td>\n",
       "    </tr>\n",
       "    <tr>\n",
       "      <th>5</th>\n",
       "      <td>g</td>\n",
       "      <td>2021-05-12T05:35:15.000Z</td>\n",
       "      <td>1</td>\n",
       "      <td>1</td>\n",
       "      <td>25</td>\n",
       "      <td>I heard the 109th kid is his favorite</td>\n",
       "    </tr>\n",
       "    <tr>\n",
       "      <th>6</th>\n",
       "      <td>Brenly Faratheon (re-fallow pls)</td>\n",
       "      <td>2021-05-12T05:41:12.000Z</td>\n",
       "      <td></td>\n",
       "      <td></td>\n",
       "      <td>4</td>\n",
       "      <td>NaN</td>\n",
       "    </tr>\n",
       "    <tr>\n",
       "      <th>7</th>\n",
       "      <td>theoutsider</td>\n",
       "      <td>2021-05-12T05:32:50.000Z</td>\n",
       "      <td></td>\n",
       "      <td></td>\n",
       "      <td>1</td>\n",
       "      <td>Cant the Social Services get involved ? Second...</td>\n",
       "    </tr>\n",
       "    <tr>\n",
       "      <th>8</th>\n",
       "      <td>Vusie Ndlovu</td>\n",
       "      <td>2021-05-12T07:31:00.000Z</td>\n",
       "      <td>1</td>\n",
       "      <td></td>\n",
       "      <td></td>\n",
       "      <td>Some don’t belong to him he quickly accepts an...</td>\n",
       "    </tr>\n",
       "    <tr>\n",
       "      <th>9</th>\n",
       "      <td>Brighton Mrehwa</td>\n",
       "      <td>2021-05-12T07:42:05.000Z</td>\n",
       "      <td>1</td>\n",
       "      <td></td>\n",
       "      <td>1</td>\n",
       "      <td>NaN</td>\n",
       "    </tr>\n",
       "  </tbody>\n",
       "</table>\n",
       "</div>"
      ],
      "text/plain": [
       "                            usernam                      date reply_cnt  \\\n",
       "0                     karenjcarroll  2021-05-12T06:29:26.000Z             \n",
       "1                       የታንዛኒያ ኬንያዊ  2021-05-12T09:54:38.000Z         1   \n",
       "2                               Tom  2021-05-12T06:21:12.000Z             \n",
       "3                          Jon Wort  2021-05-12T06:01:37.000Z         2   \n",
       "4                     pierredelecto  2021-05-12T07:55:55.000Z             \n",
       "5                                 g  2021-05-12T05:35:15.000Z         1   \n",
       "6  Brenly Faratheon (re-fallow pls)  2021-05-12T05:41:12.000Z             \n",
       "7                       theoutsider  2021-05-12T05:32:50.000Z             \n",
       "8                      Vusie Ndlovu  2021-05-12T07:31:00.000Z         1   \n",
       "9                   Brighton Mrehwa  2021-05-12T07:42:05.000Z         1   \n",
       "\n",
       "  retweet_cnt like_cnt                                                tet  \n",
       "0                    7  Western aid cancelled to Africa and Middle Eas...  \n",
       "1                    2  African Families Matter.\\n\\nStrong cocks we ha...  \n",
       "2                   13  The Wests neo-marxists loves this, its their f...  \n",
       "3                   14           How does he cope with 16 Mother-in-Laws?  \n",
       "4                    2                                                NaN  \n",
       "5           1       25              I heard the 109th kid is his favorite  \n",
       "6                    4                                                NaN  \n",
       "7                    1  Cant the Social Services get involved ? Second...  \n",
       "8                       Some don’t belong to him he quickly accepts an...  \n",
       "9                    1                                                NaN  "
      ]
     },
     "execution_count": 439,
     "metadata": {},
     "output_type": "execute_result"
    }
   ],
   "source": [
    "df.head(10)"
   ]
  },
  {
   "cell_type": "code",
   "execution_count": null,
   "id": "aerial-union",
   "metadata": {},
   "outputs": [],
   "source": [
    "#wa 4itamn 5alass tacoss HHHHHHHHHH"
   ]
  }
 ],
 "metadata": {
  "kernelspec": {
   "display_name": "Python 3",
   "language": "python",
   "name": "python3"
  },
  "language_info": {
   "codemirror_mode": {
    "name": "ipython",
    "version": 3
   },
   "file_extension": ".py",
   "mimetype": "text/x-python",
   "name": "python",
   "nbconvert_exporter": "python",
   "pygments_lexer": "ipython3",
   "version": "3.7.10"
  }
 },
 "nbformat": 4,
 "nbformat_minor": 5
}
